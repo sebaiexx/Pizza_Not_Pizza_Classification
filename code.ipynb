{
 "cells": [
  {
   "cell_type": "code",
   "execution_count": 1,
   "id": "8b73b620",
   "metadata": {},
   "outputs": [],
   "source": [
    "from keras.utils import np_utils\n",
    "from matplotlib import pyplot as plt\n",
    "import numpy as np\n",
    "from PIL import Image\n",
    "import math\n",
    "import cv2 as cv\n",
    "import pandas as pd\n",
    "import os"
   ]
  },
  {
   "cell_type": "code",
   "execution_count": 2,
   "id": "636597a8",
   "metadata": {},
   "outputs": [],
   "source": [
    "DIRECTORY = R'G:\\pizza_not_pizza'"
   ]
  },
  {
   "cell_type": "code",
   "execution_count": 3,
   "id": "11896317",
   "metadata": {},
   "outputs": [],
   "source": [
    "CATEGORIES = ['not_pizza']\n",
    "IMG_SIZE = 150\n",
    "data = []\n",
    "\n",
    "for category in CATEGORIES:\n",
    "    folder = os.path.join(DIRECTORY, category)\n",
    "    label = CATEGORIES.index(category)\n",
    "    for img in os.listdir(folder):\n",
    "        img_path = os.path.join(folder, img)\n",
    "        img_arr = cv.imread(img_path)\n",
    "        img_arr = cv.resize(img_arr, (IMG_SIZE, IMG_SIZE))\n",
    "        data.append([img_arr, label])"
   ]
  },
  {
   "cell_type": "code",
   "execution_count": 4,
   "id": "7804b845",
   "metadata": {},
   "outputs": [
    {
     "data": {
      "text/plain": [
       "(983, 150, 150, 3)"
      ]
     },
     "execution_count": 4,
     "metadata": {},
     "output_type": "execute_result"
    }
   ],
   "source": [
    "train_data = data\n",
    "original_X = []\n",
    "original_Y = []\n",
    "\n",
    "for features, label in train_data:\n",
    "    original_X.append(features)\n",
    "    original_Y.append(label)\n",
    "\n",
    "original_X = np.array(original_X)\n",
    "original_Y = np.array(original_Y)\n",
    "\n",
    "original_X.shape"
   ]
  },
  {
   "cell_type": "code",
   "execution_count": 5,
   "id": "10ffdaa9",
   "metadata": {},
   "outputs": [],
   "source": [
    "# original_X = np.array(original_X)\n",
    "# original_Y = np.array(original_Y)"
   ]
  },
  {
   "cell_type": "code",
   "execution_count": 6,
   "id": "be5d8dc4",
   "metadata": {},
   "outputs": [],
   "source": [
    "# original_X.shape"
   ]
  },
  {
   "cell_type": "code",
   "execution_count": 7,
   "id": "26f120b5",
   "metadata": {},
   "outputs": [
    {
     "name": "stdout",
     "output_type": "stream",
     "text": [
      "(983, 150, 150)\n"
     ]
    }
   ],
   "source": [
    "X_gray=[]\n",
    "for i in range(0, len(original_X)):\n",
    "        X_gray.append(cv.cvtColor(original_X[i], cv.COLOR_BGR2GRAY))\n",
    "X_gray=np.array(X_gray)\n",
    "print(X_gray.shape)"
   ]
  },
  {
   "cell_type": "code",
   "execution_count": 8,
   "id": "e6c46979",
   "metadata": {},
   "outputs": [],
   "source": [
    "# print(X_gray.shape)"
   ]
  },
  {
   "cell_type": "code",
   "execution_count": 9,
   "id": "fb7c21f0",
   "metadata": {},
   "outputs": [],
   "source": [
    "CATEGORIES_1 = ['pizza']\n",
    "IMG_SIZE = 150\n",
    "data_1 = []\n",
    "\n",
    "for category in CATEGORIES_1:\n",
    "    folder = os.path.join(DIRECTORY, category)\n",
    "    label = CATEGORIES_1.index(category)\n",
    "    for img in os.listdir(folder):\n",
    "        img_path = os.path.join(folder, img)\n",
    "        img_arr = cv.imread(img_path)\n",
    "        img_arr = cv.resize(img_arr, (IMG_SIZE, IMG_SIZE))\n",
    "        data_1.append([img_arr, label])"
   ]
  },
  {
   "cell_type": "code",
   "execution_count": 10,
   "id": "7b238c8c",
   "metadata": {},
   "outputs": [
    {
     "data": {
      "text/plain": [
       "(983, 150, 150, 3)"
      ]
     },
     "execution_count": 10,
     "metadata": {},
     "output_type": "execute_result"
    }
   ],
   "source": [
    "train_data_1 = data_1\n",
    "original_X_1 = []\n",
    "original_Y_1 = []\n",
    "for features, label in train_data_1:\n",
    "    original_X_1.append(features)\n",
    "    original_Y_1.append(label)\n",
    "\n",
    "original_X_1 = np.array(original_X_1)\n",
    "original_Y_1 = np.array(original_Y_1)\n",
    "\n",
    "original_X_1.shape"
   ]
  },
  {
   "cell_type": "code",
   "execution_count": 11,
   "id": "55c5f252",
   "metadata": {},
   "outputs": [],
   "source": [
    "# original_X_1 = np.array(original_X_1)\n",
    "# original_Y_1 = np.array(original_Y_1)"
   ]
  },
  {
   "cell_type": "code",
   "execution_count": 12,
   "id": "63ce750d",
   "metadata": {},
   "outputs": [],
   "source": [
    "# original_X_1.shape"
   ]
  },
  {
   "cell_type": "code",
   "execution_count": 13,
   "id": "2cb77394",
   "metadata": {},
   "outputs": [
    {
     "name": "stdout",
     "output_type": "stream",
     "text": [
      "(983, 150, 150)\n"
     ]
    }
   ],
   "source": [
    "X_gray_1=[]\n",
    "for i in range(0, len(original_X_1)):\n",
    "        X_gray_1.append(cv.cvtColor(original_X_1[i], cv.COLOR_BGR2GRAY))\n",
    "X_gray_1=np.array(X_gray_1)\n",
    "\n",
    "print(X_gray_1.shape)"
   ]
  },
  {
   "cell_type": "code",
   "execution_count": 14,
   "id": "37220324",
   "metadata": {},
   "outputs": [],
   "source": [
    "# print(X_gray_1.shape)"
   ]
  },
  {
   "cell_type": "code",
   "execution_count": 15,
   "id": "90a90dc4",
   "metadata": {},
   "outputs": [],
   "source": [
    "def mean_(img):\n",
    "    mean = 0\n",
    "    for dimention_1 in range(0,img.shape[0]):\n",
    "        for dimention_2 in range(0,img.shape[1]):\n",
    "            mean = mean + img[dimention_1][dimention_2]\n",
    "    mean = mean / img.size\n",
    "    return mean"
   ]
  },
  {
   "cell_type": "code",
   "execution_count": 16,
   "id": "bf82f0cb",
   "metadata": {},
   "outputs": [],
   "source": [
    "def median_(img):\n",
    "    \n",
    "    pixel_values = []\n",
    "    for dimention_1 in range(0,img.shape[0]):\n",
    "        for dimention_2 in range(0,img.shape[1]):\n",
    "            pixel_values.append(img[dimention_1][dimention_2])\n",
    "\n",
    "    pixel_values.sort()\n",
    "    mid_index = math.floor(len(pixel_values)/2)\n",
    "    median = pixel_values[mid_index]\n",
    "    return median"
   ]
  },
  {
   "cell_type": "code",
   "execution_count": 17,
   "id": "432419e8",
   "metadata": {},
   "outputs": [],
   "source": [
    "def variance_(img, mean):\n",
    "    variance=0\n",
    "    for dimention_1 in range(0,img.shape[0]):\n",
    "        for dimention_2 in range(0,img.shape[1]):\n",
    "            variance= variance+ math.pow(img[dimention_1][dimention_2]-mean ,2)\n",
    "    variance=variance/img.size\n",
    "    return variance"
   ]
  },
  {
   "cell_type": "code",
   "execution_count": 18,
   "id": "93d0325d",
   "metadata": {},
   "outputs": [],
   "source": [
    "def std_deviation_(variance):\n",
    "    return math.sqrt(variance)"
   ]
  },
  {
   "cell_type": "code",
   "execution_count": 19,
   "id": "e2fea0d9",
   "metadata": {},
   "outputs": [],
   "source": [
    "def skewness_(mean, meadian, std_deviation):\n",
    "    return 3*((mean-median)/std_deviation)"
   ]
  },
  {
   "cell_type": "code",
   "execution_count": 20,
   "id": "c123f1fb",
   "metadata": {},
   "outputs": [],
   "source": [
    "def threshold_(img):\n",
    "    ret,thresh1 = cv.threshold(img,127,255,cv.THRESH_BINARY)\n",
    "    return thresh1"
   ]
  },
  {
   "cell_type": "code",
   "execution_count": 21,
   "id": "943a246b",
   "metadata": {},
   "outputs": [],
   "source": [
    "def hist_(img):\n",
    "    hist = cv.calcHist([img],[0],None,[256],[0,256])\n",
    "    return hist.flatten().mean()"
   ]
  },
  {
   "cell_type": "code",
   "execution_count": 22,
   "id": "07b3a51d",
   "metadata": {},
   "outputs": [],
   "source": [
    "def sobel_(img):\n",
    "    sobelx = cv.Sobel(src=img, ddepth=cv.CV_64F, dx=1, dy=0, ksize=5) # Sobel Edge Detection on the X axis\n",
    "    sobely = cv.Sobel(src=img, ddepth=cv.CV_64F, dx=0, dy=1, ksize=5) # Sobel Edge Detection on the Y axis\n",
    "    sobelxy = cv.Sobel(src=img, ddepth=cv.CV_64F, dx=1, dy=1, ksize=5) # Combined X and Y Sobel Edge Detection\n",
    "    return (sobelx.flatten().mean(),sobely.flatten().mean(),sobelxy.flatten().mean())"
   ]
  },
  {
   "cell_type": "code",
   "execution_count": 23,
   "id": "a5695306",
   "metadata": {},
   "outputs": [],
   "source": [
    "def canny_(img):\n",
    "    edges = cv.Canny(image=img, threshold1=100, threshold2=200) # Canny Edge Detection\n",
    "    return edges.flatten().mean()"
   ]
  },
  {
   "cell_type": "code",
   "execution_count": 24,
   "id": "ab85f3c7",
   "metadata": {},
   "outputs": [
    {
     "data": {
      "text/html": [
       "<div>\n",
       "<style scoped>\n",
       "    .dataframe tbody tr th:only-of-type {\n",
       "        vertical-align: middle;\n",
       "    }\n",
       "\n",
       "    .dataframe tbody tr th {\n",
       "        vertical-align: top;\n",
       "    }\n",
       "\n",
       "    .dataframe thead th {\n",
       "        text-align: right;\n",
       "    }\n",
       "</style>\n",
       "<table border=\"1\" class=\"dataframe\">\n",
       "  <thead>\n",
       "    <tr style=\"text-align: right;\">\n",
       "      <th></th>\n",
       "      <th>mean</th>\n",
       "      <th>median</th>\n",
       "      <th>var</th>\n",
       "      <th>std_deviation</th>\n",
       "      <th>skewness</th>\n",
       "      <th>sobelx</th>\n",
       "      <th>sobely</th>\n",
       "      <th>sobelxy</th>\n",
       "      <th>hist</th>\n",
       "      <th>canny</th>\n",
       "      <th>class</th>\n",
       "    </tr>\n",
       "  </thead>\n",
       "  <tbody>\n",
       "    <tr>\n",
       "      <th>0</th>\n",
       "      <td>106.434267</td>\n",
       "      <td>115</td>\n",
       "      <td>2834.644168</td>\n",
       "      <td>53.241376</td>\n",
       "      <td>-0.482655</td>\n",
       "      <td>71.743600</td>\n",
       "      <td>34.991067</td>\n",
       "      <td>0.065822</td>\n",
       "      <td>87.890625</td>\n",
       "      <td>18.088000</td>\n",
       "      <td>0</td>\n",
       "    </tr>\n",
       "    <tr>\n",
       "      <th>1</th>\n",
       "      <td>106.261067</td>\n",
       "      <td>114</td>\n",
       "      <td>1982.922244</td>\n",
       "      <td>44.530015</td>\n",
       "      <td>-0.521374</td>\n",
       "      <td>-28.090267</td>\n",
       "      <td>72.552844</td>\n",
       "      <td>-0.021111</td>\n",
       "      <td>87.890625</td>\n",
       "      <td>17.408000</td>\n",
       "      <td>0</td>\n",
       "    </tr>\n",
       "    <tr>\n",
       "      <th>2</th>\n",
       "      <td>146.844356</td>\n",
       "      <td>192</td>\n",
       "      <td>7133.960841</td>\n",
       "      <td>84.462778</td>\n",
       "      <td>-1.603865</td>\n",
       "      <td>-7.432178</td>\n",
       "      <td>-5.144089</td>\n",
       "      <td>-0.271911</td>\n",
       "      <td>87.890625</td>\n",
       "      <td>21.238667</td>\n",
       "      <td>0</td>\n",
       "    </tr>\n",
       "    <tr>\n",
       "      <th>3</th>\n",
       "      <td>113.117422</td>\n",
       "      <td>124</td>\n",
       "      <td>3128.749323</td>\n",
       "      <td>55.935224</td>\n",
       "      <td>-0.583670</td>\n",
       "      <td>9.886267</td>\n",
       "      <td>4.965378</td>\n",
       "      <td>-0.044667</td>\n",
       "      <td>87.890625</td>\n",
       "      <td>32.334000</td>\n",
       "      <td>0</td>\n",
       "    </tr>\n",
       "    <tr>\n",
       "      <th>4</th>\n",
       "      <td>136.979067</td>\n",
       "      <td>119</td>\n",
       "      <td>4385.337651</td>\n",
       "      <td>66.221882</td>\n",
       "      <td>0.814492</td>\n",
       "      <td>-14.024356</td>\n",
       "      <td>47.949600</td>\n",
       "      <td>-0.150222</td>\n",
       "      <td>87.890625</td>\n",
       "      <td>34.396667</td>\n",
       "      <td>0</td>\n",
       "    </tr>\n",
       "    <tr>\n",
       "      <th>...</th>\n",
       "      <td>...</td>\n",
       "      <td>...</td>\n",
       "      <td>...</td>\n",
       "      <td>...</td>\n",
       "      <td>...</td>\n",
       "      <td>...</td>\n",
       "      <td>...</td>\n",
       "      <td>...</td>\n",
       "      <td>...</td>\n",
       "      <td>...</td>\n",
       "      <td>...</td>\n",
       "    </tr>\n",
       "    <tr>\n",
       "      <th>978</th>\n",
       "      <td>82.198133</td>\n",
       "      <td>67</td>\n",
       "      <td>3554.573099</td>\n",
       "      <td>59.620241</td>\n",
       "      <td>0.764747</td>\n",
       "      <td>-37.159111</td>\n",
       "      <td>-28.196267</td>\n",
       "      <td>-0.496711</td>\n",
       "      <td>87.890625</td>\n",
       "      <td>44.222667</td>\n",
       "      <td>0</td>\n",
       "    </tr>\n",
       "    <tr>\n",
       "      <th>979</th>\n",
       "      <td>93.955822</td>\n",
       "      <td>85</td>\n",
       "      <td>3508.789782</td>\n",
       "      <td>59.235038</td>\n",
       "      <td>0.453574</td>\n",
       "      <td>19.929956</td>\n",
       "      <td>114.321156</td>\n",
       "      <td>-0.005422</td>\n",
       "      <td>87.890625</td>\n",
       "      <td>27.494667</td>\n",
       "      <td>0</td>\n",
       "    </tr>\n",
       "    <tr>\n",
       "      <th>980</th>\n",
       "      <td>85.319022</td>\n",
       "      <td>77</td>\n",
       "      <td>4638.820447</td>\n",
       "      <td>68.108887</td>\n",
       "      <td>0.366429</td>\n",
       "      <td>-13.143644</td>\n",
       "      <td>-7.895378</td>\n",
       "      <td>0.246311</td>\n",
       "      <td>87.890625</td>\n",
       "      <td>48.393333</td>\n",
       "      <td>0</td>\n",
       "    </tr>\n",
       "    <tr>\n",
       "      <th>981</th>\n",
       "      <td>106.152933</td>\n",
       "      <td>91</td>\n",
       "      <td>2927.986611</td>\n",
       "      <td>54.110873</td>\n",
       "      <td>0.840105</td>\n",
       "      <td>-13.032000</td>\n",
       "      <td>56.552622</td>\n",
       "      <td>-0.213067</td>\n",
       "      <td>87.890625</td>\n",
       "      <td>34.793333</td>\n",
       "      <td>0</td>\n",
       "    </tr>\n",
       "    <tr>\n",
       "      <th>982</th>\n",
       "      <td>102.894933</td>\n",
       "      <td>94</td>\n",
       "      <td>4069.378828</td>\n",
       "      <td>63.791683</td>\n",
       "      <td>0.418312</td>\n",
       "      <td>-29.326311</td>\n",
       "      <td>-3.228089</td>\n",
       "      <td>-0.661333</td>\n",
       "      <td>87.890625</td>\n",
       "      <td>46.262667</td>\n",
       "      <td>0</td>\n",
       "    </tr>\n",
       "  </tbody>\n",
       "</table>\n",
       "<p>983 rows × 11 columns</p>\n",
       "</div>"
      ],
      "text/plain": [
       "           mean  median          var  std_deviation  skewness     sobelx  \\\n",
       "0    106.434267     115  2834.644168      53.241376 -0.482655  71.743600   \n",
       "1    106.261067     114  1982.922244      44.530015 -0.521374 -28.090267   \n",
       "2    146.844356     192  7133.960841      84.462778 -1.603865  -7.432178   \n",
       "3    113.117422     124  3128.749323      55.935224 -0.583670   9.886267   \n",
       "4    136.979067     119  4385.337651      66.221882  0.814492 -14.024356   \n",
       "..          ...     ...          ...            ...       ...        ...   \n",
       "978   82.198133      67  3554.573099      59.620241  0.764747 -37.159111   \n",
       "979   93.955822      85  3508.789782      59.235038  0.453574  19.929956   \n",
       "980   85.319022      77  4638.820447      68.108887  0.366429 -13.143644   \n",
       "981  106.152933      91  2927.986611      54.110873  0.840105 -13.032000   \n",
       "982  102.894933      94  4069.378828      63.791683  0.418312 -29.326311   \n",
       "\n",
       "         sobely   sobelxy       hist      canny  class  \n",
       "0     34.991067  0.065822  87.890625  18.088000      0  \n",
       "1     72.552844 -0.021111  87.890625  17.408000      0  \n",
       "2     -5.144089 -0.271911  87.890625  21.238667      0  \n",
       "3      4.965378 -0.044667  87.890625  32.334000      0  \n",
       "4     47.949600 -0.150222  87.890625  34.396667      0  \n",
       "..          ...       ...        ...        ...    ...  \n",
       "978  -28.196267 -0.496711  87.890625  44.222667      0  \n",
       "979  114.321156 -0.005422  87.890625  27.494667      0  \n",
       "980   -7.895378  0.246311  87.890625  48.393333      0  \n",
       "981   56.552622 -0.213067  87.890625  34.793333      0  \n",
       "982   -3.228089 -0.661333  87.890625  46.262667      0  \n",
       "\n",
       "[983 rows x 11 columns]"
      ]
     },
     "execution_count": 24,
     "metadata": {},
     "output_type": "execute_result"
    }
   ],
   "source": [
    "data0 = []\n",
    "#generating class 0 features dataset\n",
    "for test_image in X_gray:\n",
    "    mean = mean_(test_image)\n",
    "    median = median_(test_image)\n",
    "    var = variance_(test_image, mean)\n",
    "    std_deviation = std_deviation_(var)\n",
    "    skewness = skewness_(mean, median, std_deviation)\n",
    "    sobelx,sobely,sobelxy = sobel_(test_image)\n",
    "    hist = hist_(test_image)\n",
    "    canny = canny_(test_image)\n",
    "#     print(mean, median, var, std_deviation, skewness , sobelx, sobely, sobelxy, hist, canny)\n",
    "    data0.append({'mean':mean,\n",
    "            'median':median,\n",
    "            'var':var,\n",
    "            'std_deviation':std_deviation,\n",
    "            'skewness':skewness,\n",
    "            'sobelx':sobelx,\n",
    "            'sobely':sobely,\n",
    "            'sobelxy':sobelxy,\n",
    "            'hist':hist,\n",
    "            'canny':canny,\n",
    "            'class': 0})\n",
    "    \n",
    "df0 = pd.DataFrame(data = data0)\n",
    "df0"
   ]
  },
  {
   "cell_type": "code",
   "execution_count": 25,
   "id": "b9c19d60",
   "metadata": {},
   "outputs": [
    {
     "data": {
      "text/html": [
       "<div>\n",
       "<style scoped>\n",
       "    .dataframe tbody tr th:only-of-type {\n",
       "        vertical-align: middle;\n",
       "    }\n",
       "\n",
       "    .dataframe tbody tr th {\n",
       "        vertical-align: top;\n",
       "    }\n",
       "\n",
       "    .dataframe thead th {\n",
       "        text-align: right;\n",
       "    }\n",
       "</style>\n",
       "<table border=\"1\" class=\"dataframe\">\n",
       "  <thead>\n",
       "    <tr style=\"text-align: right;\">\n",
       "      <th></th>\n",
       "      <th>mean</th>\n",
       "      <th>median</th>\n",
       "      <th>var</th>\n",
       "      <th>std_deviation</th>\n",
       "      <th>skewness</th>\n",
       "      <th>sobelx</th>\n",
       "      <th>sobely</th>\n",
       "      <th>sobelxy</th>\n",
       "      <th>hist</th>\n",
       "      <th>canny</th>\n",
       "      <th>class</th>\n",
       "    </tr>\n",
       "  </thead>\n",
       "  <tbody>\n",
       "    <tr>\n",
       "      <th>0</th>\n",
       "      <td>108.477067</td>\n",
       "      <td>98</td>\n",
       "      <td>3366.253830</td>\n",
       "      <td>58.019426</td>\n",
       "      <td>0.541736</td>\n",
       "      <td>30.441156</td>\n",
       "      <td>-62.653600</td>\n",
       "      <td>-0.252267</td>\n",
       "      <td>87.890625</td>\n",
       "      <td>68.328667</td>\n",
       "      <td>1</td>\n",
       "    </tr>\n",
       "    <tr>\n",
       "      <th>1</th>\n",
       "      <td>109.378400</td>\n",
       "      <td>113</td>\n",
       "      <td>1138.105080</td>\n",
       "      <td>33.735813</td>\n",
       "      <td>-0.322055</td>\n",
       "      <td>-18.513111</td>\n",
       "      <td>26.508222</td>\n",
       "      <td>0.033911</td>\n",
       "      <td>87.890625</td>\n",
       "      <td>41.514000</td>\n",
       "      <td>1</td>\n",
       "    </tr>\n",
       "    <tr>\n",
       "      <th>2</th>\n",
       "      <td>141.184311</td>\n",
       "      <td>161</td>\n",
       "      <td>3559.476563</td>\n",
       "      <td>59.661349</td>\n",
       "      <td>-0.996408</td>\n",
       "      <td>50.870000</td>\n",
       "      <td>67.627689</td>\n",
       "      <td>0.064756</td>\n",
       "      <td>87.890625</td>\n",
       "      <td>55.148000</td>\n",
       "      <td>1</td>\n",
       "    </tr>\n",
       "    <tr>\n",
       "      <th>3</th>\n",
       "      <td>94.706089</td>\n",
       "      <td>83</td>\n",
       "      <td>4994.690283</td>\n",
       "      <td>70.673123</td>\n",
       "      <td>0.496911</td>\n",
       "      <td>-26.869200</td>\n",
       "      <td>47.507333</td>\n",
       "      <td>-0.087422</td>\n",
       "      <td>87.890625</td>\n",
       "      <td>33.546667</td>\n",
       "      <td>1</td>\n",
       "    </tr>\n",
       "    <tr>\n",
       "      <th>4</th>\n",
       "      <td>93.428889</td>\n",
       "      <td>81</td>\n",
       "      <td>3277.298365</td>\n",
       "      <td>57.247693</td>\n",
       "      <td>0.651322</td>\n",
       "      <td>-29.008800</td>\n",
       "      <td>15.474222</td>\n",
       "      <td>0.103022</td>\n",
       "      <td>87.890625</td>\n",
       "      <td>35.416667</td>\n",
       "      <td>1</td>\n",
       "    </tr>\n",
       "    <tr>\n",
       "      <th>...</th>\n",
       "      <td>...</td>\n",
       "      <td>...</td>\n",
       "      <td>...</td>\n",
       "      <td>...</td>\n",
       "      <td>...</td>\n",
       "      <td>...</td>\n",
       "      <td>...</td>\n",
       "      <td>...</td>\n",
       "      <td>...</td>\n",
       "      <td>...</td>\n",
       "      <td>...</td>\n",
       "    </tr>\n",
       "    <tr>\n",
       "      <th>978</th>\n",
       "      <td>93.482000</td>\n",
       "      <td>91</td>\n",
       "      <td>2453.729943</td>\n",
       "      <td>49.535138</td>\n",
       "      <td>0.150318</td>\n",
       "      <td>-79.695733</td>\n",
       "      <td>41.055644</td>\n",
       "      <td>-0.804889</td>\n",
       "      <td>87.890625</td>\n",
       "      <td>65.529333</td>\n",
       "      <td>1</td>\n",
       "    </tr>\n",
       "    <tr>\n",
       "      <th>979</th>\n",
       "      <td>87.063467</td>\n",
       "      <td>77</td>\n",
       "      <td>2222.120150</td>\n",
       "      <td>47.139369</td>\n",
       "      <td>0.640450</td>\n",
       "      <td>13.422711</td>\n",
       "      <td>-10.413911</td>\n",
       "      <td>0.579067</td>\n",
       "      <td>87.890625</td>\n",
       "      <td>59.296000</td>\n",
       "      <td>1</td>\n",
       "    </tr>\n",
       "    <tr>\n",
       "      <th>980</th>\n",
       "      <td>118.435511</td>\n",
       "      <td>107</td>\n",
       "      <td>2606.402463</td>\n",
       "      <td>51.052938</td>\n",
       "      <td>0.671980</td>\n",
       "      <td>42.235644</td>\n",
       "      <td>-93.791467</td>\n",
       "      <td>-0.340000</td>\n",
       "      <td>87.890625</td>\n",
       "      <td>61.562667</td>\n",
       "      <td>1</td>\n",
       "    </tr>\n",
       "    <tr>\n",
       "      <th>981</th>\n",
       "      <td>101.450000</td>\n",
       "      <td>93</td>\n",
       "      <td>2592.189367</td>\n",
       "      <td>50.913548</td>\n",
       "      <td>0.497903</td>\n",
       "      <td>27.765111</td>\n",
       "      <td>-28.640400</td>\n",
       "      <td>0.221733</td>\n",
       "      <td>87.890625</td>\n",
       "      <td>63.761333</td>\n",
       "      <td>1</td>\n",
       "    </tr>\n",
       "    <tr>\n",
       "      <th>982</th>\n",
       "      <td>126.701911</td>\n",
       "      <td>126</td>\n",
       "      <td>3730.413143</td>\n",
       "      <td>61.077108</td>\n",
       "      <td>0.034477</td>\n",
       "      <td>8.663956</td>\n",
       "      <td>-78.977378</td>\n",
       "      <td>0.011689</td>\n",
       "      <td>87.890625</td>\n",
       "      <td>59.364000</td>\n",
       "      <td>1</td>\n",
       "    </tr>\n",
       "  </tbody>\n",
       "</table>\n",
       "<p>983 rows × 11 columns</p>\n",
       "</div>"
      ],
      "text/plain": [
       "           mean  median          var  std_deviation  skewness     sobelx  \\\n",
       "0    108.477067      98  3366.253830      58.019426  0.541736  30.441156   \n",
       "1    109.378400     113  1138.105080      33.735813 -0.322055 -18.513111   \n",
       "2    141.184311     161  3559.476563      59.661349 -0.996408  50.870000   \n",
       "3     94.706089      83  4994.690283      70.673123  0.496911 -26.869200   \n",
       "4     93.428889      81  3277.298365      57.247693  0.651322 -29.008800   \n",
       "..          ...     ...          ...            ...       ...        ...   \n",
       "978   93.482000      91  2453.729943      49.535138  0.150318 -79.695733   \n",
       "979   87.063467      77  2222.120150      47.139369  0.640450  13.422711   \n",
       "980  118.435511     107  2606.402463      51.052938  0.671980  42.235644   \n",
       "981  101.450000      93  2592.189367      50.913548  0.497903  27.765111   \n",
       "982  126.701911     126  3730.413143      61.077108  0.034477   8.663956   \n",
       "\n",
       "        sobely   sobelxy       hist      canny  class  \n",
       "0   -62.653600 -0.252267  87.890625  68.328667      1  \n",
       "1    26.508222  0.033911  87.890625  41.514000      1  \n",
       "2    67.627689  0.064756  87.890625  55.148000      1  \n",
       "3    47.507333 -0.087422  87.890625  33.546667      1  \n",
       "4    15.474222  0.103022  87.890625  35.416667      1  \n",
       "..         ...       ...        ...        ...    ...  \n",
       "978  41.055644 -0.804889  87.890625  65.529333      1  \n",
       "979 -10.413911  0.579067  87.890625  59.296000      1  \n",
       "980 -93.791467 -0.340000  87.890625  61.562667      1  \n",
       "981 -28.640400  0.221733  87.890625  63.761333      1  \n",
       "982 -78.977378  0.011689  87.890625  59.364000      1  \n",
       "\n",
       "[983 rows x 11 columns]"
      ]
     },
     "execution_count": 25,
     "metadata": {},
     "output_type": "execute_result"
    }
   ],
   "source": [
    "data1 = []\n",
    "#generating class 1 features dataset\n",
    "for test_image in X_gray_1:\n",
    "    mean = mean_(test_image)\n",
    "    median = median_(test_image)\n",
    "    var = variance_(test_image, mean)\n",
    "    std_deviation = std_deviation_(var)\n",
    "    skewness = skewness_(mean, median, std_deviation)\n",
    "    sobelx,sobely,sobelxy = sobel_(test_image)\n",
    "    hist = hist_(test_image)\n",
    "    canny = canny_(test_image)\n",
    "#     print(mean, median, var, std_deviation, skewness , sobelx, sobely, sobelxy, hist, canny)\n",
    "    data1.append({'mean':mean,\n",
    "            'median':median,\n",
    "            'var':var,\n",
    "            'std_deviation':std_deviation,\n",
    "            'skewness':skewness,\n",
    "            'sobelx':sobelx,\n",
    "            'sobely':sobely,\n",
    "            'sobelxy':sobelxy,\n",
    "            'hist':hist,\n",
    "            'canny':canny,\n",
    "            'class': 1})\n",
    "    \n",
    "df1 = pd.DataFrame(data = data1)\n",
    "df1"
   ]
  },
  {
   "cell_type": "code",
   "execution_count": 26,
   "id": "397c24f0",
   "metadata": {},
   "outputs": [],
   "source": [
    "df0.to_csv('class0.csv', index=False)\n",
    "df1.to_csv('class1.csv', index=False)"
   ]
  },
  {
   "cell_type": "code",
   "execution_count": 27,
   "id": "e815b092",
   "metadata": {},
   "outputs": [],
   "source": [
    "frames = [df0, df1]\n",
    "df = pd.concat(frames)\n",
    "df = df.sample(frac = 1) #shuffling data\n",
    "df.to_csv('classes.csv', index=False)"
   ]
  },
  {
   "cell_type": "code",
   "execution_count": 28,
   "id": "43f77754",
   "metadata": {},
   "outputs": [
    {
     "name": "stdout",
     "output_type": "stream",
     "text": [
      "Requirement already satisfied: scikit-learn in c:\\users\\sebaiexx\\miniconda3\\lib\\site-packages (1.2.0)\n",
      "Requirement already satisfied: numpy>=1.17.3 in c:\\users\\sebaiexx\\miniconda3\\lib\\site-packages (from scikit-learn) (1.24.1)\n",
      "Requirement already satisfied: threadpoolctl>=2.0.0 in c:\\users\\sebaiexx\\miniconda3\\lib\\site-packages (from scikit-learn) (3.1.0)\n",
      "Requirement already satisfied: joblib>=1.1.1 in c:\\users\\sebaiexx\\miniconda3\\lib\\site-packages (from scikit-learn) (1.2.0)\n",
      "Requirement already satisfied: scipy>=1.3.2 in c:\\users\\sebaiexx\\miniconda3\\lib\\site-packages (from scikit-learn) (1.9.3)\n"
     ]
    }
   ],
   "source": [
    "!pip install scikit-learn"
   ]
  },
  {
   "cell_type": "code",
   "execution_count": 29,
   "id": "665cacdb",
   "metadata": {
    "scrolled": true
   },
   "outputs": [],
   "source": [
    "import pandas\n",
    "from sklearn import tree\n",
    "from sklearn.tree import DecisionTreeClassifier\n",
    "import matplotlib.pyplot as plt\n",
    "from sklearn.model_selection import train_test_split\n",
    "\n",
    "df = pandas.read_csv(\"classes.csv\")\n",
    "\n",
    "train, test = train_test_split(df, test_size=0.2)\n",
    "\n",
    "features = ['mean', 'median', 'var', 'std_deviation', 'skewness' , 'sobelx', 'sobely', 'sobelxy', 'hist', 'canny']\n",
    "\n",
    "\n",
    "X = train[features]\n",
    "y = train['class']\n",
    "\n",
    "dtree = DecisionTreeClassifier()\n",
    "dtree = dtree.fit(X, y)"
   ]
  },
  {
   "cell_type": "code",
   "execution_count": 30,
   "id": "20edb84e",
   "metadata": {},
   "outputs": [
    {
     "data": {
      "text/plain": [
       "0.6700507614213198"
      ]
     },
     "execution_count": 30,
     "metadata": {},
     "output_type": "execute_result"
    }
   ],
   "source": [
    "x_test = test[features]\n",
    "y_test = test['class']\n",
    "dtree.score(x_test,y_test)"
   ]
  },
  {
   "cell_type": "code",
   "execution_count": 31,
   "id": "c9029382",
   "metadata": {},
   "outputs": [
    {
     "data": {
      "text/html": [
       "<style>#sk-container-id-1 {color: black;background-color: white;}#sk-container-id-1 pre{padding: 0;}#sk-container-id-1 div.sk-toggleable {background-color: white;}#sk-container-id-1 label.sk-toggleable__label {cursor: pointer;display: block;width: 100%;margin-bottom: 0;padding: 0.3em;box-sizing: border-box;text-align: center;}#sk-container-id-1 label.sk-toggleable__label-arrow:before {content: \"▸\";float: left;margin-right: 0.25em;color: #696969;}#sk-container-id-1 label.sk-toggleable__label-arrow:hover:before {color: black;}#sk-container-id-1 div.sk-estimator:hover label.sk-toggleable__label-arrow:before {color: black;}#sk-container-id-1 div.sk-toggleable__content {max-height: 0;max-width: 0;overflow: hidden;text-align: left;background-color: #f0f8ff;}#sk-container-id-1 div.sk-toggleable__content pre {margin: 0.2em;color: black;border-radius: 0.25em;background-color: #f0f8ff;}#sk-container-id-1 input.sk-toggleable__control:checked~div.sk-toggleable__content {max-height: 200px;max-width: 100%;overflow: auto;}#sk-container-id-1 input.sk-toggleable__control:checked~label.sk-toggleable__label-arrow:before {content: \"▾\";}#sk-container-id-1 div.sk-estimator input.sk-toggleable__control:checked~label.sk-toggleable__label {background-color: #d4ebff;}#sk-container-id-1 div.sk-label input.sk-toggleable__control:checked~label.sk-toggleable__label {background-color: #d4ebff;}#sk-container-id-1 input.sk-hidden--visually {border: 0;clip: rect(1px 1px 1px 1px);clip: rect(1px, 1px, 1px, 1px);height: 1px;margin: -1px;overflow: hidden;padding: 0;position: absolute;width: 1px;}#sk-container-id-1 div.sk-estimator {font-family: monospace;background-color: #f0f8ff;border: 1px dotted black;border-radius: 0.25em;box-sizing: border-box;margin-bottom: 0.5em;}#sk-container-id-1 div.sk-estimator:hover {background-color: #d4ebff;}#sk-container-id-1 div.sk-parallel-item::after {content: \"\";width: 100%;border-bottom: 1px solid gray;flex-grow: 1;}#sk-container-id-1 div.sk-label:hover label.sk-toggleable__label {background-color: #d4ebff;}#sk-container-id-1 div.sk-serial::before {content: \"\";position: absolute;border-left: 1px solid gray;box-sizing: border-box;top: 0;bottom: 0;left: 50%;z-index: 0;}#sk-container-id-1 div.sk-serial {display: flex;flex-direction: column;align-items: center;background-color: white;padding-right: 0.2em;padding-left: 0.2em;position: relative;}#sk-container-id-1 div.sk-item {position: relative;z-index: 1;}#sk-container-id-1 div.sk-parallel {display: flex;align-items: stretch;justify-content: center;background-color: white;position: relative;}#sk-container-id-1 div.sk-item::before, #sk-container-id-1 div.sk-parallel-item::before {content: \"\";position: absolute;border-left: 1px solid gray;box-sizing: border-box;top: 0;bottom: 0;left: 50%;z-index: -1;}#sk-container-id-1 div.sk-parallel-item {display: flex;flex-direction: column;z-index: 1;position: relative;background-color: white;}#sk-container-id-1 div.sk-parallel-item:first-child::after {align-self: flex-end;width: 50%;}#sk-container-id-1 div.sk-parallel-item:last-child::after {align-self: flex-start;width: 50%;}#sk-container-id-1 div.sk-parallel-item:only-child::after {width: 0;}#sk-container-id-1 div.sk-dashed-wrapped {border: 1px dashed gray;margin: 0 0.4em 0.5em 0.4em;box-sizing: border-box;padding-bottom: 0.4em;background-color: white;}#sk-container-id-1 div.sk-label label {font-family: monospace;font-weight: bold;display: inline-block;line-height: 1.2em;}#sk-container-id-1 div.sk-label-container {text-align: center;}#sk-container-id-1 div.sk-container {/* jupyter's `normalize.less` sets `[hidden] { display: none; }` but bootstrap.min.css set `[hidden] { display: none !important; }` so we also need the `!important` here to be able to override the default hidden behavior on the sphinx rendered scikit-learn.org. See: https://github.com/scikit-learn/scikit-learn/issues/21755 */display: inline-block !important;position: relative;}#sk-container-id-1 div.sk-text-repr-fallback {display: none;}</style><div id=\"sk-container-id-1\" class=\"sk-top-container\"><div class=\"sk-text-repr-fallback\"><pre>SVC(kernel=&#x27;linear&#x27;)</pre><b>In a Jupyter environment, please rerun this cell to show the HTML representation or trust the notebook. <br />On GitHub, the HTML representation is unable to render, please try loading this page with nbviewer.org.</b></div><div class=\"sk-container\" hidden><div class=\"sk-item\"><div class=\"sk-estimator sk-toggleable\"><input class=\"sk-toggleable__control sk-hidden--visually\" id=\"sk-estimator-id-1\" type=\"checkbox\" checked><label for=\"sk-estimator-id-1\" class=\"sk-toggleable__label sk-toggleable__label-arrow\">SVC</label><div class=\"sk-toggleable__content\"><pre>SVC(kernel=&#x27;linear&#x27;)</pre></div></div></div></div></div>"
      ],
      "text/plain": [
       "SVC(kernel='linear')"
      ]
     },
     "execution_count": 31,
     "metadata": {},
     "output_type": "execute_result"
    }
   ],
   "source": [
    "from sklearn import svm\n",
    "from sklearn.metrics import accuracy_score\n",
    "\n",
    "ls = svm.SVC(kernel='linear')\n",
    "ls.fit(X,y)\n"
   ]
  },
  {
   "cell_type": "code",
   "execution_count": 33,
   "id": "8aab6908",
   "metadata": {},
   "outputs": [
    {
     "name": "stdout",
     "output_type": "stream",
     "text": [
      "0.700507614213198\n"
     ]
    }
   ],
   "source": [
    "predicted = ls.predict(x_test)\n",
    "acc = accuracy_score(y_test, predicted)\n",
    "print(acc)"
   ]
  },
  {
   "cell_type": "code",
   "execution_count": 38,
   "id": "c882d07c",
   "metadata": {},
   "outputs": [
    {
     "name": "stdout",
     "output_type": "stream",
     "text": [
      "0.7309644670050761\n"
     ]
    }
   ],
   "source": [
    "less_features = ['mean' , 'median', 'var', 'skewness', 'hist', 'canny']\n",
    "X_less = train[less_features]\n",
    "y = train['class']\n",
    "x_test_less = test[less_features]\n",
    "y_test = test['class']\n",
    "ls01 = svm.SVC(kernel='linear')\n",
    "ls01.fit(X_less,y)\n",
    "predicted = ls01.predict(x_test_less)\n",
    "acc = accuracy_score(y_test, predicted)\n",
    "print(acc)"
   ]
  },
  {
   "cell_type": "code",
   "execution_count": 44,
   "id": "204852c7",
   "metadata": {},
   "outputs": [
    {
     "name": "stdout",
     "output_type": "stream",
     "text": [
      "0.7131979695431472\n"
     ]
    }
   ],
   "source": [
    "two_features = ['skewness', 'canny']\n",
    "X_2 = train[two_features]\n",
    "y = train['class']\n",
    "x_test_2 = test[two_features]\n",
    "y_test = test['class']\n",
    "ls02 = svm.SVC(kernel='linear')\n",
    "ls02.fit(X_2,y)\n",
    "predicted = ls02.predict(x_test_2)\n",
    "acc = accuracy_score(y_test, predicted)\n",
    "print(acc)"
   ]
  }
 ],
 "metadata": {
  "kernelspec": {
   "display_name": "Python 3 (ipykernel)",
   "language": "python",
   "name": "python3"
  },
  "language_info": {
   "codemirror_mode": {
    "name": "ipython",
    "version": 3
   },
   "file_extension": ".py",
   "mimetype": "text/x-python",
   "name": "python",
   "nbconvert_exporter": "python",
   "pygments_lexer": "ipython3",
   "version": "3.9.12"
  }
 },
 "nbformat": 4,
 "nbformat_minor": 5
}
